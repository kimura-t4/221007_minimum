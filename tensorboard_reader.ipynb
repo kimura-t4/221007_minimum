{
 "cells": [
  {
   "cell_type": "code",
   "execution_count": 13,
   "metadata": {},
   "outputs": [
    {
     "name": "stdout",
     "output_type": "stream",
     "text": [
      "[TensorEvent(wall_time=1665124185.63608, step=0, tensor_proto=dtype: DT_FLOAT\n",
      "tensor_shape {\n",
      "}\n",
      "tensor_content: \"\\205\\207\\274?\"\n",
      "), TensorEvent(wall_time=1665124197.277815, step=1, tensor_proto=dtype: DT_FLOAT\n",
      "tensor_shape {\n",
      "}\n",
      "tensor_content: \"\\330f\\274?\"\n",
      "), TensorEvent(wall_time=1665124209.054628, step=2, tensor_proto=dtype: DT_FLOAT\n",
      "tensor_shape {\n",
      "}\n",
      "tensor_content: \"\\361\\257\\275?\"\n",
      "), TensorEvent(wall_time=1665124220.873984, step=3, tensor_proto=dtype: DT_FLOAT\n",
      "tensor_shape {\n",
      "}\n",
      "tensor_content: \"\\201\\337\\321?\"\n",
      "), TensorEvent(wall_time=1665124232.367595, step=4, tensor_proto=dtype: DT_FLOAT\n",
      "tensor_shape {\n",
      "}\n",
      "tensor_content: \"\\205\\307\\323?\"\n",
      ")]\n"
     ]
    },
    {
     "ename": "AttributeError",
     "evalue": "'TensorEvent' object has no attribute 'value'",
     "output_type": "error",
     "traceback": [
      "\u001b[0;31m---------------------------------------------------------------------------\u001b[0m",
      "\u001b[0;31mAttributeError\u001b[0m                            Traceback (most recent call last)",
      "\u001b[1;32m/home/kimura/Workspace/Projects/221007_minimum/tensorboard_reader.ipynb Cell 1'\u001b[0m in \u001b[0;36m<cell line: 8>\u001b[0;34m()\u001b[0m\n\u001b[1;32m      <a href='vscode-notebook-cell://ssh-remote%2B7b22686f73744e616d65223a22474953545f4149227d/home/kimura/Workspace/Projects/221007_minimum/tensorboard_reader.ipynb#W0sdnNjb2RlLXJlbW90ZQ%3D%3D?line=8'>9</a>\u001b[0m events \u001b[39m=\u001b[39m event_acc\u001b[39m.\u001b[39mTensors(tag)\n\u001b[1;32m     <a href='vscode-notebook-cell://ssh-remote%2B7b22686f73744e616d65223a22474953545f4149227d/home/kimura/Workspace/Projects/221007_minimum/tensorboard_reader.ipynb#W0sdnNjb2RlLXJlbW90ZQ%3D%3D?line=9'>10</a>\u001b[0m \u001b[39mprint\u001b[39m(events)\n\u001b[0;32m---> <a href='vscode-notebook-cell://ssh-remote%2B7b22686f73744e616d65223a22474953545f4149227d/home/kimura/Workspace/Projects/221007_minimum/tensorboard_reader.ipynb#W0sdnNjb2RlLXJlbW90ZQ%3D%3D?line=10'>11</a>\u001b[0m scalars[tag] \u001b[39m=\u001b[39m [event\u001b[39m.\u001b[39mvalue \u001b[39mfor\u001b[39;00m event \u001b[39min\u001b[39;00m events]\n",
      "\u001b[1;32m/home/kimura/Workspace/Projects/221007_minimum/tensorboard_reader.ipynb Cell 1'\u001b[0m in \u001b[0;36m<listcomp>\u001b[0;34m(.0)\u001b[0m\n\u001b[1;32m      <a href='vscode-notebook-cell://ssh-remote%2B7b22686f73744e616d65223a22474953545f4149227d/home/kimura/Workspace/Projects/221007_minimum/tensorboard_reader.ipynb#W0sdnNjb2RlLXJlbW90ZQ%3D%3D?line=8'>9</a>\u001b[0m events \u001b[39m=\u001b[39m event_acc\u001b[39m.\u001b[39mTensors(tag)\n\u001b[1;32m     <a href='vscode-notebook-cell://ssh-remote%2B7b22686f73744e616d65223a22474953545f4149227d/home/kimura/Workspace/Projects/221007_minimum/tensorboard_reader.ipynb#W0sdnNjb2RlLXJlbW90ZQ%3D%3D?line=9'>10</a>\u001b[0m \u001b[39mprint\u001b[39m(events)\n\u001b[0;32m---> <a href='vscode-notebook-cell://ssh-remote%2B7b22686f73744e616d65223a22474953545f4149227d/home/kimura/Workspace/Projects/221007_minimum/tensorboard_reader.ipynb#W0sdnNjb2RlLXJlbW90ZQ%3D%3D?line=10'>11</a>\u001b[0m scalars[tag] \u001b[39m=\u001b[39m [event\u001b[39m.\u001b[39;49mvalue \u001b[39mfor\u001b[39;00m event \u001b[39min\u001b[39;00m events]\n",
      "\u001b[0;31mAttributeError\u001b[0m: 'TensorEvent' object has no attribute 'value'"
     ]
    }
   ],
   "source": [
    "from tensorboard.backend.event_processing.event_accumulator import EventAccumulator\n",
    "\n",
    "path = 'logs/gradient_tape/20221007-152933/valid/events.out.tfevents.1665124173.GistAI22.201474.19.v2' # Tensorboard ログファイル\n",
    "event_acc = EventAccumulator(path, size_guidance={'scalars': 0})\n",
    "event_acc.Reload() # ログファイルのサイズによっては非常に時間がかかる\n",
    "\n",
    "scalars = {}\n",
    "for tag in event_acc.Tags()['tensors']:\n",
    "    events = event_acc.Tensors(tag)\n",
    "    print(events)\n",
    "    scalars[tag] = [event.value for event in events]"
   ]
  },
  {
   "cell_type": "code",
   "execution_count": 8,
   "metadata": {},
   "outputs": [
    {
     "data": {
      "text/plain": [
       "{}"
      ]
     },
     "execution_count": 8,
     "metadata": {},
     "output_type": "execute_result"
    }
   ],
   "source": [
    "scalars"
   ]
  },
  {
   "cell_type": "code",
   "execution_count": null,
   "metadata": {},
   "outputs": [],
   "source": []
  }
 ],
 "metadata": {
  "interpreter": {
   "hash": "d46ce1dbe4360d4f2d5315887bc429a0b73f33913d74a70a5b0b67e0a9e45453"
  },
  "kernelspec": {
   "display_name": "Python 3.8.0 ('DLDS': conda)",
   "language": "python",
   "name": "python3"
  },
  "language_info": {
   "codemirror_mode": {
    "name": "ipython",
    "version": 3
   },
   "file_extension": ".py",
   "mimetype": "text/x-python",
   "name": "python",
   "nbconvert_exporter": "python",
   "pygments_lexer": "ipython3",
   "version": "3.8.0"
  },
  "orig_nbformat": 4
 },
 "nbformat": 4,
 "nbformat_minor": 2
}
